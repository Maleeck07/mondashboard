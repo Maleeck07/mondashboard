{
 "cells": [
  {
   "cell_type": "code",
   "execution_count": 1,
   "id": "059cab70",
   "metadata": {},
   "outputs": [],
   "source": [
    "import dash\n",
    "from dash import dcc, html, dash_table\n",
    "from dash.dependencies import Input, Output\n",
    "import plotly.express as px\n",
    "import pandas as pd\n",
    "import numpy as np"
   ]
  },
  {
   "cell_type": "code",
   "execution_count": 2,
   "id": "14f5b83f",
   "metadata": {
    "scrolled": true
   },
   "outputs": [],
   "source": [
    "# Initialisation de l'application\n",
    "app = dash.Dash(__name__)\n",
    "\n",
    "# Données\n",
    "data = {\n",
    "    \"Nom\": [\"Lycée Babacar Cobar Ndao\", \"Cem Waly Thiobane\", \"École élémentaire Waly Fatha Ndiaye\",\n",
    "            \"École Élémentaire Diamaguene TP\", \"Lycée Diamaguene TP\", \"Elhadji Ndéné Diodio Ndiaye\",\n",
    "            \"CEM 2 Babacar Cobar Ndao\", \"CEM 1 Babacar Cobar Ndao\", \"École El hadji Fana Cissé\",\n",
    "            \"Lycée Franco-Arabe\", \"École Notre Dame\", \"École Kaffrine 6\", \"École élémentaire Kaffrine 10\",\n",
    "            \"École élémentaire Kaffrine 3\", \"École élémentaire Kaffrine 9\", \"École élémentaire Tagouthie Waly Ndao\",\n",
    "            \"École élémentaire Kaffrine 8\", \"École élémentaire Kaffrine 12\"],\n",
    "    \"Niveau\": [\"Lycée\", \"Collège\", \"Élémentaire\", \"Élémentaire\", \"Lycée\", \"Élémentaire\", \"Collège\", \"Collège\", \"Élémentaire\", \"Lycée\", \"Élémentaire\", \"Élémentaire\", \"Élémentaire\", \"Élémentaire\", \"Élémentaire\", \"Élémentaire\", \"Élémentaire\", \"Élémentaire\"],\n",
    "    \"Effectif\": [1937, 906, 644, 653, 1500, 635, 874, 853, 389, 858, 624, 658, 305, 536, 563, 372, 418, 341],\n",
    "    \"Garçons\": [771, 382, 286, 271, 733, 256, 403, 364, 194, 401, 329, 349, 142, 265, 257, 192, 198, 176],\n",
    "    \"Filles\": [1166, 524, 358, 382, 767, 379, 471, 488, 195, 515, 295, 309, 163, 271, 306, 180, 220, 165],\n",
    "    \"Nombre de Professeurs\": [48, 23, 16, 16, 34, 15, 23, 22, 9, 25, 18, 15, 10, 14, 14, 14, 13, 12],\n",
    "    \"Salles de classes\": [31, 14, 12, 15, 18, 13, 18, 17, 11, 10, 13, 13, 8, 12, 13, 13, 12, 10],\n",
    "    \"Classes fonctionnelles\": [31, 14, 12, 12, 18, 13, 18, 16, 11, 10, 13, 13, 8, 12, 12, 12, 12, 10],\n",
    "    \"Classes non fonctionnelles\": [0, 0, 0, 3, 0, 0, 0, 1, 0, 0, 0, 0, 0, 0, 1, 1, 0, 0],\n",
    "}\n",
    "\n",
    "df = pd.DataFrame(data)"
   ]
  },
  {
   "cell_type": "code",
   "execution_count": 3,
   "id": "bcadf5e2",
   "metadata": {},
   "outputs": [],
   "source": [
    "# Calcul du nombre moyen d'élèves par classe fonctionnelle\n",
    "df[\"Élèves par classe fonctionnelle\"] = df[\"Effectif\"] / df[\"Classes fonctionnelles\"]\n",
    "\n",
    "# Layout de l'application\n",
    "app.layout = html.Div([\n",
    "    html.H1(\"Tableau de bord des écoles de Kaffrine\"),\n",
    "    html.H2(\"Analyse de la répartition et des caractéristiques des écoles\"),\n",
    "    dcc.Dropdown(\n",
    "        id='niveau-dropdown',\n",
    "        options=[{'label': niveau, 'value': niveau} for niveau in df['Niveau'].unique()],\n",
    "        value='Lycée'\n",
    "    ),\n",
    "    dcc.Graph(id='students-chart'),\n",
    "    dcc.Graph(id='gender-chart'),\n",
    "    dcc.Graph(id='teachers-chart'),\n",
    "    dcc.Graph(id='classes-chart'),\n",
    "    dcc.Graph(id='students-per-class-chart'),\n",
    "    dash_table.DataTable(\n",
    "        id='data-table',\n",
    "        columns=[{\"name\": i, \"id\": i} for i in df.columns],\n",
    "        data=df.to_dict('records'),\n",
    "        page_size=10,\n",
    "    ),\n",
    "    html.Button(\"Télécharger les données CSV\", id=\"btn-download\"),\n",
    "]) "
   ]
  },
  {
   "cell_type": "code",
   "execution_count": 4,
   "id": "807af91d",
   "metadata": {},
   "outputs": [],
   "source": [
    "# Callback pour mettre à jour les graphiques\n",
    "@app.callback(\n",
    "    [Output('students-chart', 'figure'),\n",
    "     Output('gender-chart', 'figure'),\n",
    "     Output('teachers-chart', 'figure'),\n",
    "     Output('classes-chart', 'figure'),\n",
    "     Output('students-per-class-chart', 'figure')],\n",
    "    [Input('niveau-dropdown', 'value')]\n",
    ")\n",
    "def update_charts(selected_niveau):\n",
    "    filtered_df = df[df['Niveau'] == selected_niveau]\n",
    "\n",
    "    # Vérifier si les données existent après le filtrage\n",
    "    if filtered_df.empty:\n",
    "        students_chart = px.bar(title=\"Pas de données disponibles\")\n",
    "        gender_chart = px.bar(title=\"Pas de données disponibles\")\n",
    "        teachers_chart = px.bar(title=\"Pas de données disponibles\")\n",
    "        classes_chart = px.bar(title=\"Pas de données disponibles\")\n",
    "        students_per_class_chart = px.bar(title=\"Pas de données disponibles\")\n",
    "    else:\n",
    "        students_chart = px.bar(filtered_df, x='Nom', y='Effectif', title=\"Nombre d'élèves par école\")\n",
    "        gender_chart = px.bar(filtered_df, x='Nom', y=['Garçons', 'Filles'], title=\"Répartition des genres par école\")\n",
    "        teachers_chart = px.bar(filtered_df, x='Nom', y='Nombre de Professeurs', title=\"Nombre de professeurs par école\")\n",
    "        classes_chart = px.bar(filtered_df, x='Nom', y=['Classes fonctionnelles', 'Classes non fonctionnelles'], title=\"Nombre de classes fonctionnelles et non fonctionnelles\")\n",
    "        students_per_class_chart = px.bar(filtered_df, x='Nom', y='Élèves par classe fonctionnelle', title=\"Nombre d'élèves par classe fonctionnelle\")\n",
    "\n",
    "    return students_chart, gender_chart, teachers_chart, classes_chart, students_per_class_chart"
   ]
  },
  {
   "cell_type": "code",
   "execution_count": 5,
   "id": "aad9887f",
   "metadata": {},
   "outputs": [],
   "source": [
    "# Callback pour le téléchargement CSV\n",
    "@app.callback(\n",
    "    Output(\"download\", \"data\"),\n",
    "    [Input(\"btn-download\", \"n_clicks\")],\n",
    "    prevent_initial_call=True,\n",
    ")\n",
    "def download_csv(n_clicks):\n",
    "    return send_data_frame(df.to_csv, \"data_kaffrine.csv\")"
   ]
  },
  {
   "cell_type": "code",
   "execution_count": 6,
   "id": "b040e2ac",
   "metadata": {},
   "outputs": [
    {
     "data": {
      "text/html": [
       "\n",
       "        <iframe\n",
       "            width=\"100%\"\n",
       "            height=\"650\"\n",
       "            src=\"http://127.0.0.1:8053/\"\n",
       "            frameborder=\"0\"\n",
       "            allowfullscreen\n",
       "            \n",
       "        ></iframe>\n",
       "        "
      ],
      "text/plain": [
       "<IPython.lib.display.IFrame at 0x2393b472710>"
      ]
     },
     "metadata": {},
     "output_type": "display_data"
    }
   ],
   "source": [
    "#Démarrer l'application dans Jupyter avec un port différent\n",
    "app.run_server(mode='inline', port=8053)"
   ]
  },
  {
   "cell_type": "code",
   "execution_count": 7,
   "id": "1f046476",
   "metadata": {},
   "outputs": [],
   "source": [
    "!pip freeze > requirements.txt"
   ]
  },
  {
   "cell_type": "code",
   "execution_count": null,
   "id": "7d1c9026",
   "metadata": {},
   "outputs": [],
   "source": []
  }
 ],
 "metadata": {
  "kernelspec": {
   "display_name": "Python 3 (ipykernel)",
   "language": "python",
   "name": "python3"
  },
  "language_info": {
   "codemirror_mode": {
    "name": "ipython",
    "version": 3
   },
   "file_extension": ".py",
   "mimetype": "text/x-python",
   "name": "python",
   "nbconvert_exporter": "python",
   "pygments_lexer": "ipython3",
   "version": "3.11.5"
  }
 },
 "nbformat": 4,
 "nbformat_minor": 5
}
